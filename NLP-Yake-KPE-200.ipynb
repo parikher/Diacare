{
  "nbformat": 4,
  "nbformat_minor": 0,
  "metadata": {
    "colab": {
      "name": "Untitled0.ipynb",
      "provenance": [],
      "collapsed_sections": [],
      "authorship_tag": "ABX9TyORENwmBNFPD1GuXYV3/5ba",
      "include_colab_link": true
    },
    "kernelspec": {
      "name": "python3",
      "display_name": "Python 3"
    }
  },
  "cells": [
    {
      "cell_type": "markdown",
      "metadata": {
        "id": "view-in-github",
        "colab_type": "text"
      },
      "source": [
        "<a href=\"https://colab.research.google.com/github/parikher/Diacare/blob/master/NLP-Yake-KPE-200.ipynb\" target=\"_parent\"><img src=\"https://colab.research.google.com/assets/colab-badge.svg\" alt=\"Open In Colab\"/></a>"
      ]
    },
    {
      "cell_type": "code",
      "metadata": {
        "id": "GpnDJt-S3pn2",
        "outputId": "37de4518-4243-4214-ad8f-3b3d50b3074b",
        "colab": {
          "base_uri": "https://localhost:8080/"
        }
      },
      "source": [
        "\n",
        "import os\n",
        "import pandas as pd\n",
        "\n",
        "!pip install rake_nltk\n",
        "from rake_nltk import Metric, Rake\n",
        "import nltk\n",
        "import string\n",
        "string.punctuation\n",
        "stopword = nltk.corpus.stopwords.words('english')\n",
        "!pip install yake\n",
        "import yake\n",
        "import re\n",
        " "
      ],
      "execution_count": 3,
      "outputs": [
        {
          "output_type": "stream",
          "text": [
            "Requirement already satisfied: rake_nltk in /usr/local/lib/python3.6/dist-packages (1.0.4)\n",
            "Requirement already satisfied: nltk in /usr/local/lib/python3.6/dist-packages (from rake_nltk) (3.2.5)\n",
            "Requirement already satisfied: six in /usr/local/lib/python3.6/dist-packages (from nltk->rake_nltk) (1.15.0)\n",
            "Collecting yake\n",
            "\u001b[?25l  Downloading https://files.pythonhosted.org/packages/b6/3c/ed20047202793a08786978be68ec44c7ffbcb814ed05b985b38037f31a56/yake-0.3.7.tar.gz (53kB)\n",
            "\u001b[K     |████████████████████████████████| 61kB 1.9MB/s \n",
            "\u001b[?25hRequirement already satisfied: Click>=6.0 in /usr/local/lib/python3.6/dist-packages (from yake) (7.1.2)\n",
            "Collecting fire\n",
            "\u001b[?25l  Downloading https://files.pythonhosted.org/packages/34/a7/0e22e70778aca01a52b9c899d9c145c6396d7b613719cd63db97ffa13f2f/fire-0.3.1.tar.gz (81kB)\n",
            "\u001b[K     |████████████████████████████████| 81kB 4.1MB/s \n",
            "\u001b[?25hRequirement already satisfied: numpy in /usr/local/lib/python3.6/dist-packages (from yake) (1.18.5)\n",
            "Collecting segtok\n",
            "  Downloading https://files.pythonhosted.org/packages/41/08/582dab5f4b1d5ca23bc6927b4bb977c8ff7f3a87a3b98844ef833e2f5623/segtok-1.5.10.tar.gz\n",
            "Requirement already satisfied: pandas in /usr/local/lib/python3.6/dist-packages (from yake) (1.1.4)\n",
            "Requirement already satisfied: networkx in /usr/local/lib/python3.6/dist-packages (from yake) (2.5)\n",
            "Collecting jellyfish\n",
            "\u001b[?25l  Downloading https://files.pythonhosted.org/packages/6c/09/927ae35fc5a9f70abb6cc2c27ee88fc48549f7bc4786c1d4b177c22e997d/jellyfish-0.8.2-cp36-cp36m-manylinux2014_x86_64.whl (93kB)\n",
            "\u001b[K     |████████████████████████████████| 102kB 9.7MB/s \n",
            "\u001b[?25hCollecting unidecode>=0.4.19\n",
            "\u001b[?25l  Downloading https://files.pythonhosted.org/packages/d0/42/d9edfed04228bacea2d824904cae367ee9efd05e6cce7ceaaedd0b0ad964/Unidecode-1.1.1-py2.py3-none-any.whl (238kB)\n",
            "\u001b[K     |████████████████████████████████| 245kB 46.7MB/s \n",
            "\u001b[?25hRequirement already satisfied: nltk>=3.1 in /usr/local/lib/python3.6/dist-packages (from yake) (3.2.5)\n",
            "Requirement already satisfied: scipy in /usr/local/lib/python3.6/dist-packages (from yake) (1.4.1)\n",
            "Requirement already satisfied: six in /usr/local/lib/python3.6/dist-packages (from fire->yake) (1.15.0)\n",
            "Requirement already satisfied: termcolor in /usr/local/lib/python3.6/dist-packages (from fire->yake) (1.1.0)\n",
            "Requirement already satisfied: regex in /usr/local/lib/python3.6/dist-packages (from segtok->yake) (2019.12.20)\n",
            "Requirement already satisfied: python-dateutil>=2.7.3 in /usr/local/lib/python3.6/dist-packages (from pandas->yake) (2.8.1)\n",
            "Requirement already satisfied: pytz>=2017.2 in /usr/local/lib/python3.6/dist-packages (from pandas->yake) (2018.9)\n",
            "Requirement already satisfied: decorator>=4.3.0 in /usr/local/lib/python3.6/dist-packages (from networkx->yake) (4.4.2)\n",
            "Building wheels for collected packages: yake, fire, segtok\n",
            "  Building wheel for yake (setup.py) ... \u001b[?25l\u001b[?25hdone\n",
            "  Created wheel for yake: filename=yake-0.3.7-py2.py3-none-any.whl size=44591 sha256=a2f2eb17c455dfc1df82ee73072f706c3d4eb0317de6138bce3be8e792cc8948\n",
            "  Stored in directory: /root/.cache/pip/wheels/90/7d/56/63a3a3b064e9214e29616880dc4170a300ca68643728ce24ba\n",
            "  Building wheel for fire (setup.py) ... \u001b[?25l\u001b[?25hdone\n",
            "  Created wheel for fire: filename=fire-0.3.1-py2.py3-none-any.whl size=111005 sha256=066dab05c926fb004f67e7fbc019cd4cc56a59d03fea4c9c4a22db30d8c2b499\n",
            "  Stored in directory: /root/.cache/pip/wheels/c1/61/df/768b03527bf006b546dce284eb4249b185669e65afc5fbb2ac\n",
            "  Building wheel for segtok (setup.py) ... \u001b[?25l\u001b[?25hdone\n",
            "  Created wheel for segtok: filename=segtok-1.5.10-cp36-none-any.whl size=25021 sha256=290fd91fe953d56f5383acd66744a340c5e490c073769337c0d0dc58c4b4c6cc\n",
            "  Stored in directory: /root/.cache/pip/wheels/b4/39/f6/9ca1c5cabde964d728023b5751c3a206a5c8cc40252321fb6b\n",
            "Successfully built yake fire segtok\n",
            "Installing collected packages: fire, segtok, jellyfish, unidecode, yake\n",
            "Successfully installed fire-0.3.1 jellyfish-0.8.2 segtok-1.5.10 unidecode-1.1.1 yake-0.3.7\n"
          ],
          "name": "stdout"
        }
      ]
    },
    {
      "cell_type": "code",
      "metadata": {
        "id": "1lafehWuzy4d"
      },
      "source": [
        "#Load Part of speech tags .. standard from stanford uni NLP lab .. using this to remove tags from tags\n",
        "pos_tags = ['/CC ','/CD ','/DT ','/EX ','/FW ','/IN ','/JJ ','/JJR ','/JJS ','/LS ','/MD ','/NN ','/NNP ','/NNPS ','/NNS ','/PDT ','/POS ','/PRP ','/PRP$ ','/prp$ ','/punct ','/RB ','/RBR ','/rbs ','/RP ','/SYM ','/TO ','/UH ','/VB ','/VBD ','/VBG ','/VBN ','/VBP ','/VBZ ','/WDT ','/WP ','/WP$ ','/WRB ']"
      ],
      "execution_count": 4,
      "outputs": []
    },
    {
      "cell_type": "code",
      "metadata": {
        "id": "UeXMLqRj9bHF",
        "outputId": "6f267bd1-26a6-46b8-cc95-2c6bac820bda",
        "colab": {
          "base_uri": "https://localhost:8080/"
        }
      },
      "source": [
        "from google.colab import drive\n",
        "drive.mount('/content/gdrive/')"
      ],
      "execution_count": 5,
      "outputs": [
        {
          "output_type": "stream",
          "text": [
            "Mounted at /content/gdrive/\n"
          ],
          "name": "stdout"
        }
      ]
    },
    {
      "cell_type": "code",
      "metadata": {
        "id": "8ELO5DVmzz1W",
        "outputId": "04dbf614-295b-4062-c30c-e2086749db59",
        "colab": {
          "base_uri": "https://localhost:8080/"
        }
      },
      "source": [
        "# Load Data to dataframe\n",
        "# Read all files in the folder and save filename and data into dataframe\n",
        "DataFolder = 'gdrive/My Drive/ColabNotebooks/dataset/ACM/'\n",
        "df = pd.DataFrame(columns=['Doc-ID','Doc-Text'])\n",
        "rows_list = []\n",
        "for FileName in os.listdir(DataFolder):\n",
        "    f = open(DataFolder + FileName, \"r\")\n",
        "    Text_in_doc = f.read()\n",
        "    Text_in_doc =  re.sub('\\n',' ',Text_in_doc)\n",
        "    dict1 = {}\n",
        "    dict1[FileName]:Text_in_doc\n",
        "    df = df.append({'Doc-ID': FileName,'Doc-Text' : Text_in_doc}, ignore_index=True)\n",
        "df.shape"
      ],
      "execution_count": 7,
      "outputs": [
        {
          "output_type": "execute_result",
          "data": {
            "text/plain": [
              "(2304, 2)"
            ]
          },
          "metadata": {
            "tags": []
          },
          "execution_count": 7
        }
      ]
    },
    {
      "cell_type": "code",
      "metadata": {
        "id": "7umFC3UiHyE8"
      },
      "source": [
        "# PreProcessing data - remove tags\n",
        "#Remove pos-tags from text and matching /prp$ /wp$ and replace brackets\n",
        "def clear_text(text):\n",
        "        for tag in pos_tags:\n",
        "            text = re.sub(str(tag).lower(),' ',text)\n",
        "            text = re.sub('/prp. ',' ',text)\n",
        "            text = re.sub('/wp. ',' ',text)\n",
        "            text = re.sub('-LRB-','(',text)\n",
        "            text = re.sub('-RRB-',')',text)\n",
        "            text = re.sub('-LSB-','[',text)\n",
        "            text = re.sub('-RSB-',']',text)\n",
        "        return text\n",
        "df['AftClearText'] = df['Doc-Text'].apply(lambda x : clear_text(x))"
      ],
      "execution_count": 8,
      "outputs": []
    },
    {
      "cell_type": "code",
      "metadata": {
        "id": "PPWzJdNtHzHf"
      },
      "source": [
        "#extract KPs with Yake\n",
        "from tqdm import tqdm\n",
        "tqdm.pandas()\n",
        "\n",
        "kw_extractor = yake.KeywordExtractor(n=3,dedupLim=0.9,top=200,features=None )\n",
        "def KPs_from_yake(text):\n",
        "    KPsFrmYake = kw_extractor.extract_keywords(text)\n",
        "    result = []\n",
        "    for each in KPsFrmYake:\n",
        "        result.append(each[1])\n",
        "    return result\n"
      ],
      "execution_count": 9,
      "outputs": []
    },
    {
      "cell_type": "code",
      "metadata": {
        "id": "SE0Dk0G3gUYL",
        "outputId": "42689285-d8af-4df4-fb2a-7729ad06babf",
        "colab": {
          "base_uri": "https://localhost:8080/"
        }
      },
      "source": [
        "df['KPs_frm_YAKE'] = df['AftClearText'].progress_apply(lambda x : KPs_from_yake(x))  "
      ],
      "execution_count": 10,
      "outputs": [
        {
          "output_type": "stream",
          "text": [
            "100%|██████████| 2304/2304 [22:28<00:00,  1.71it/s]\n"
          ],
          "name": "stderr"
        }
      ]
    },
    {
      "cell_type": "code",
      "metadata": {
        "id": "K9XREWbBH0h5",
        "outputId": "eac9acac-fee7-467c-fdca-9d3847ac3d40",
        "colab": {
          "base_uri": "https://localhost:8080/",
          "height": 199
        }
      },
      "source": [
        "# Visualise data in dataframe\n",
        "df.head(5)"
      ],
      "execution_count": 12,
      "outputs": [
        {
          "output_type": "execute_result",
          "data": {
            "text/html": [
              "<div>\n",
              "<style scoped>\n",
              "    .dataframe tbody tr th:only-of-type {\n",
              "        vertical-align: middle;\n",
              "    }\n",
              "\n",
              "    .dataframe tbody tr th {\n",
              "        vertical-align: top;\n",
              "    }\n",
              "\n",
              "    .dataframe thead th {\n",
              "        text-align: right;\n",
              "    }\n",
              "</style>\n",
              "<table border=\"1\" class=\"dataframe\">\n",
              "  <thead>\n",
              "    <tr style=\"text-align: right;\">\n",
              "      <th></th>\n",
              "      <th>Doc-ID</th>\n",
              "      <th>Doc-Text</th>\n",
              "      <th>AftClearText</th>\n",
              "      <th>KPs_frm_YAKE</th>\n",
              "    </tr>\n",
              "  </thead>\n",
              "  <tbody>\n",
              "    <tr>\n",
              "      <th>0</th>\n",
              "      <td>626779.txt.final.pre</td>\n",
              "      <td>--/punct T/nn Fault/nnp Injection/nn and/cc De...</td>\n",
              "      <td>-- T Fault Injection and Dependability Evaluat...</td>\n",
              "      <td>[fault injection experiments, fault injection,...</td>\n",
              "    </tr>\n",
              "    <tr>\n",
              "      <th>1</th>\n",
              "      <td>176519.txt.final.pre</td>\n",
              "      <td>--/punct T/nn Precise/jj and/cc efficient/jj g...</td>\n",
              "      <td>-- T Precise and efficient groundness analysis...</td>\n",
              "      <td>[boolean functions, positive boolean functions...</td>\n",
              "    </tr>\n",
              "    <tr>\n",
              "      <th>2</th>\n",
              "      <td>323812.txt.final.pre</td>\n",
              "      <td>--/punct T/nn Active/jj Management/nn of/in Da...</td>\n",
              "      <td>-- T Active Management of Data Caches by Explo...</td>\n",
              "      <td>[nts pcs nts, pcs nts pcs, mat nts pcs, nts pc...</td>\n",
              "    </tr>\n",
              "    <tr>\n",
              "      <th>3</th>\n",
              "      <td>277910.txt.final.pre</td>\n",
              "      <td>--/punct T/nn Modeling/vbg set/vbn associative...</td>\n",
              "      <td>-- T Modeling set associative caches behavior ...</td>\n",
              "      <td>[sparse matrix, sparse matrix-vector product, ...</td>\n",
              "    </tr>\n",
              "    <tr>\n",
              "      <th>4</th>\n",
              "      <td>344994.txt.final.pre</td>\n",
              "      <td>--/punct T/nn Inexact/nnp Preconditioned/nnp C...</td>\n",
              "      <td>-- T Inexact Preconditioned Conjugate Gradient...</td>\n",
              "      <td>[preconditioned conjugate gradient, inexact pr...</td>\n",
              "    </tr>\n",
              "  </tbody>\n",
              "</table>\n",
              "</div>"
            ],
            "text/plain": [
              "                 Doc-ID  ...                                       KPs_frm_YAKE\n",
              "0  626779.txt.final.pre  ...  [fault injection experiments, fault injection,...\n",
              "1  176519.txt.final.pre  ...  [boolean functions, positive boolean functions...\n",
              "2  323812.txt.final.pre  ...  [nts pcs nts, pcs nts pcs, mat nts pcs, nts pc...\n",
              "3  277910.txt.final.pre  ...  [sparse matrix, sparse matrix-vector product, ...\n",
              "4  344994.txt.final.pre  ...  [preconditioned conjugate gradient, inexact pr...\n",
              "\n",
              "[5 rows x 4 columns]"
            ]
          },
          "metadata": {
            "tags": []
          },
          "execution_count": 12
        }
      ]
    },
    {
      "cell_type": "code",
      "metadata": {
        "id": "7JwbQi9sIIcx",
        "outputId": "ef284212-05c2-426c-e106-2271c2cef157",
        "colab": {
          "base_uri": "https://localhost:8080/",
          "height": 108
        }
      },
      "source": [
        "# Take Doc-ID and KPs_frm_RAKE two columns two new data frame for further processing\n",
        "df1 = df \n",
        "df1 = df1.drop(['Doc-Text', 'AftClearText'], axis=1)\n",
        "df1.head(2)"
      ],
      "execution_count": 13,
      "outputs": [
        {
          "output_type": "execute_result",
          "data": {
            "text/html": [
              "<div>\n",
              "<style scoped>\n",
              "    .dataframe tbody tr th:only-of-type {\n",
              "        vertical-align: middle;\n",
              "    }\n",
              "\n",
              "    .dataframe tbody tr th {\n",
              "        vertical-align: top;\n",
              "    }\n",
              "\n",
              "    .dataframe thead th {\n",
              "        text-align: right;\n",
              "    }\n",
              "</style>\n",
              "<table border=\"1\" class=\"dataframe\">\n",
              "  <thead>\n",
              "    <tr style=\"text-align: right;\">\n",
              "      <th></th>\n",
              "      <th>Doc-ID</th>\n",
              "      <th>KPs_frm_YAKE</th>\n",
              "    </tr>\n",
              "  </thead>\n",
              "  <tbody>\n",
              "    <tr>\n",
              "      <th>0</th>\n",
              "      <td>626779.txt.final.pre</td>\n",
              "      <td>[fault injection experiments, fault injection,...</td>\n",
              "    </tr>\n",
              "    <tr>\n",
              "      <th>1</th>\n",
              "      <td>176519.txt.final.pre</td>\n",
              "      <td>[boolean functions, positive boolean functions...</td>\n",
              "    </tr>\n",
              "  </tbody>\n",
              "</table>\n",
              "</div>"
            ],
            "text/plain": [
              "                 Doc-ID                                       KPs_frm_YAKE\n",
              "0  626779.txt.final.pre  [fault injection experiments, fault injection,...\n",
              "1  176519.txt.final.pre  [boolean functions, positive boolean functions..."
            ]
          },
          "metadata": {
            "tags": []
          },
          "execution_count": 13
        }
      ]
    },
    {
      "cell_type": "code",
      "metadata": {
        "id": "5lTWZ5onILPN"
      },
      "source": [
        "# Load Ground Truth KPs from JSON to dataframe dftruth\n",
        "import json\n",
        "TruthFolder = 'gdrive/My Drive/ColabNotebooks/dataset/truth/'\n",
        "dftruth = pd.DataFrame(columns=['Doc-ID-only','KPs_Truth'])\n",
        "\n",
        "\n",
        "with open(TruthFolder + 'test.author.json') as json_file:\n",
        "    data = json.load(json_file)\n",
        "    for p in data:\n",
        "        dftruth = dftruth.append({'Doc-ID-only': p,'KPs_Truth' : data[p]}, ignore_index=True)"
      ],
      "execution_count": 14,
      "outputs": []
    },
    {
      "cell_type": "code",
      "metadata": {
        "id": "QHvYAha9appI"
      },
      "source": [
        "dftruth = dftruth.sort_values(by=['Doc-ID-only'],ascending=False)\n",
        "df1= df1.sort_values(by=['Doc-ID'],ascending=False)\n",
        "dftruth = dftruth.reset_index(drop=True)\n",
        "df1 = df1.reset_index(drop=True)\n",
        " "
      ],
      "execution_count": 15,
      "outputs": []
    },
    {
      "cell_type": "code",
      "metadata": {
        "id": "It2cplIxIbVz",
        "outputId": "20f757f0-7385-4b30-9ab8-375b7d5b18bd",
        "colab": {
          "base_uri": "https://localhost:8080/",
          "height": 108
        }
      },
      "source": [
        "# Take dfa dfb for further processing \n",
        "dfa = df1\n",
        "dfb = dftruth\n",
        "\n",
        "# remove .txt.final.pre string from ID\n",
        "dfa['Doc-ID'] = dfa['Doc-ID'].apply(lambda x : re.sub('.txt.final.pre','',x))  \n",
        "\n",
        "# # sort both df by ID \n",
        "# dfa = dfa.sort_values(by=['Doc-ID'],ascending=True)\n",
        "# dfb = dfb.sort_values(by=['Doc-ID-only'],ascending=True)\n",
        "\n",
        "# Join two dfs by column - KPs from rake, KPs from ground truth and Unique ID\n",
        "dfc = pd.concat([dfa,dfb], axis=1, ignore_index=False)\n",
        "\n",
        "# Rearrange the columns as below\n",
        "dfd = dfc[['Doc-ID','Doc-ID-only','KPs_Truth','KPs_frm_YAKE']]\n",
        "\n",
        "dfd.head(2)"
      ],
      "execution_count": 16,
      "outputs": [
        {
          "output_type": "execute_result",
          "data": {
            "text/html": [
              "<div>\n",
              "<style scoped>\n",
              "    .dataframe tbody tr th:only-of-type {\n",
              "        vertical-align: middle;\n",
              "    }\n",
              "\n",
              "    .dataframe tbody tr th {\n",
              "        vertical-align: top;\n",
              "    }\n",
              "\n",
              "    .dataframe thead th {\n",
              "        text-align: right;\n",
              "    }\n",
              "</style>\n",
              "<table border=\"1\" class=\"dataframe\">\n",
              "  <thead>\n",
              "    <tr style=\"text-align: right;\">\n",
              "      <th></th>\n",
              "      <th>Doc-ID</th>\n",
              "      <th>Doc-ID-only</th>\n",
              "      <th>KPs_Truth</th>\n",
              "      <th>KPs_frm_YAKE</th>\n",
              "    </tr>\n",
              "  </thead>\n",
              "  <tbody>\n",
              "    <tr>\n",
              "      <th>0</th>\n",
              "      <td>637759</td>\n",
              "      <td>637759</td>\n",
              "      <td>[[devs models], [applications of devs methodol...</td>\n",
              "      <td>[window invalid mask, trap base register, circ...</td>\n",
              "    </tr>\n",
              "    <tr>\n",
              "      <th>1</th>\n",
              "      <td>637568</td>\n",
              "      <td>637568</td>\n",
              "      <td>[[breakpoint analysis], [genome rearrangement]...</td>\n",
              "      <td>[pairwise inversion distance, maximum pairwise...</td>\n",
              "    </tr>\n",
              "  </tbody>\n",
              "</table>\n",
              "</div>"
            ],
            "text/plain": [
              "   Doc-ID  ...                                       KPs_frm_YAKE\n",
              "0  637759  ...  [window invalid mask, trap base register, circ...\n",
              "1  637568  ...  [pairwise inversion distance, maximum pairwise...\n",
              "\n",
              "[2 rows x 4 columns]"
            ]
          },
          "metadata": {
            "tags": []
          },
          "execution_count": 16
        }
      ]
    },
    {
      "cell_type": "code",
      "metadata": {
        "id": "sB582Lz3dZFj",
        "outputId": "cc26c889-b385-4f63-8f94-6b9f2565bcf7",
        "colab": {
          "base_uri": "https://localhost:8080/",
          "height": 108
        }
      },
      "source": [
        "dfb.head(2)"
      ],
      "execution_count": 17,
      "outputs": [
        {
          "output_type": "execute_result",
          "data": {
            "text/html": [
              "<div>\n",
              "<style scoped>\n",
              "    .dataframe tbody tr th:only-of-type {\n",
              "        vertical-align: middle;\n",
              "    }\n",
              "\n",
              "    .dataframe tbody tr th {\n",
              "        vertical-align: top;\n",
              "    }\n",
              "\n",
              "    .dataframe thead th {\n",
              "        text-align: right;\n",
              "    }\n",
              "</style>\n",
              "<table border=\"1\" class=\"dataframe\">\n",
              "  <thead>\n",
              "    <tr style=\"text-align: right;\">\n",
              "      <th></th>\n",
              "      <th>Doc-ID-only</th>\n",
              "      <th>KPs_Truth</th>\n",
              "    </tr>\n",
              "  </thead>\n",
              "  <tbody>\n",
              "    <tr>\n",
              "      <th>0</th>\n",
              "      <td>637759</td>\n",
              "      <td>[[devs models], [applications of devs methodol...</td>\n",
              "    </tr>\n",
              "    <tr>\n",
              "      <th>1</th>\n",
              "      <td>637568</td>\n",
              "      <td>[[breakpoint analysis], [genome rearrangement]...</td>\n",
              "    </tr>\n",
              "  </tbody>\n",
              "</table>\n",
              "</div>"
            ],
            "text/plain": [
              "  Doc-ID-only                                          KPs_Truth\n",
              "0      637759  [[devs models], [applications of devs methodol...\n",
              "1      637568  [[breakpoint analysis], [genome rearrangement]..."
            ]
          },
          "metadata": {
            "tags": []
          },
          "execution_count": 17
        }
      ]
    },
    {
      "cell_type": "code",
      "metadata": {
        "id": "uI8neUysIoTX",
        "outputId": "076e1916-42c8-4c30-c172-21a17e9758b7",
        "colab": {
          "base_uri": "https://localhost:8080/",
          "height": 293
        }
      },
      "source": [
        "# Calculate matching KPs percentage Matching of Ground Truth with Rake extracted KPs\n",
        "\n",
        "def calculate_percent_found(row):\n",
        "    rakeKPs = dfd.iloc[row,3]\n",
        "    truthKPs =  dfd.iloc[row,2]\n",
        "    total = len(truthKPs)\n",
        "    found = 0\n",
        "    for KP in truthKPs:\n",
        "        if KP[0] in rakeKPs:\n",
        "            found = found+1\n",
        "    return (found/total)*100\n",
        "\n",
        "\n",
        "# Add Index Column to dfd\n",
        "dfd['index_col'] = df.index\n",
        "\n",
        "# Apply calculate_percent_found function to have percent_found in separate column\n",
        "dfd['percent_found'] = dfd['index_col'].apply(lambda x : calculate_percent_found(x))  \n",
        "dfd.head(2)"
      ],
      "execution_count": 18,
      "outputs": [
        {
          "output_type": "stream",
          "text": [
            "/usr/local/lib/python3.6/dist-packages/ipykernel_launcher.py:15: SettingWithCopyWarning: \n",
            "A value is trying to be set on a copy of a slice from a DataFrame.\n",
            "Try using .loc[row_indexer,col_indexer] = value instead\n",
            "\n",
            "See the caveats in the documentation: https://pandas.pydata.org/pandas-docs/stable/user_guide/indexing.html#returning-a-view-versus-a-copy\n",
            "  from ipykernel import kernelapp as app\n",
            "/usr/local/lib/python3.6/dist-packages/ipykernel_launcher.py:18: SettingWithCopyWarning: \n",
            "A value is trying to be set on a copy of a slice from a DataFrame.\n",
            "Try using .loc[row_indexer,col_indexer] = value instead\n",
            "\n",
            "See the caveats in the documentation: https://pandas.pydata.org/pandas-docs/stable/user_guide/indexing.html#returning-a-view-versus-a-copy\n"
          ],
          "name": "stderr"
        },
        {
          "output_type": "execute_result",
          "data": {
            "text/html": [
              "<div>\n",
              "<style scoped>\n",
              "    .dataframe tbody tr th:only-of-type {\n",
              "        vertical-align: middle;\n",
              "    }\n",
              "\n",
              "    .dataframe tbody tr th {\n",
              "        vertical-align: top;\n",
              "    }\n",
              "\n",
              "    .dataframe thead th {\n",
              "        text-align: right;\n",
              "    }\n",
              "</style>\n",
              "<table border=\"1\" class=\"dataframe\">\n",
              "  <thead>\n",
              "    <tr style=\"text-align: right;\">\n",
              "      <th></th>\n",
              "      <th>Doc-ID</th>\n",
              "      <th>Doc-ID-only</th>\n",
              "      <th>KPs_Truth</th>\n",
              "      <th>KPs_frm_YAKE</th>\n",
              "      <th>index_col</th>\n",
              "      <th>percent_found</th>\n",
              "    </tr>\n",
              "  </thead>\n",
              "  <tbody>\n",
              "    <tr>\n",
              "      <th>0</th>\n",
              "      <td>637759</td>\n",
              "      <td>637759</td>\n",
              "      <td>[[devs models], [applications of devs methodol...</td>\n",
              "      <td>[window invalid mask, trap base register, circ...</td>\n",
              "      <td>0</td>\n",
              "      <td>25.000000</td>\n",
              "    </tr>\n",
              "    <tr>\n",
              "      <th>1</th>\n",
              "      <td>637568</td>\n",
              "      <td>637568</td>\n",
              "      <td>[[breakpoint analysis], [genome rearrangement]...</td>\n",
              "      <td>[pairwise inversion distance, maximum pairwise...</td>\n",
              "      <td>1</td>\n",
              "      <td>33.333333</td>\n",
              "    </tr>\n",
              "  </tbody>\n",
              "</table>\n",
              "</div>"
            ],
            "text/plain": [
              "   Doc-ID Doc-ID-only  ... index_col percent_found\n",
              "0  637759      637759  ...         0     25.000000\n",
              "1  637568      637568  ...         1     33.333333\n",
              "\n",
              "[2 rows x 6 columns]"
            ]
          },
          "metadata": {
            "tags": []
          },
          "execution_count": 18
        }
      ]
    },
    {
      "cell_type": "code",
      "metadata": {
        "id": "DtJw4AXgIqS5",
        "outputId": "5d6a39d4-f176-44a7-f093-5091ed8fe9bc",
        "colab": {
          "base_uri": "https://localhost:8080/"
        }
      },
      "source": [
        "# Average KPs matching percentage for all documents \n",
        "Total = dfd['percent_found'].sum()\n",
        "Total/2304"
      ],
      "execution_count": 19,
      "outputs": [
        {
          "output_type": "execute_result",
          "data": {
            "text/plain": [
              "50.25634850373123"
            ]
          },
          "metadata": {
            "tags": []
          },
          "execution_count": 19
        }
      ]
    },
    {
      "cell_type": "code",
      "metadata": {
        "id": "ez9PGcc2Irzx",
        "outputId": "f65a8116-581f-4c02-c103-574a3a905396",
        "colab": {
          "base_uri": "https://localhost:8080/",
          "height": 653
        }
      },
      "source": [
        "dfd.head(20)"
      ],
      "execution_count": 20,
      "outputs": [
        {
          "output_type": "execute_result",
          "data": {
            "text/html": [
              "<div>\n",
              "<style scoped>\n",
              "    .dataframe tbody tr th:only-of-type {\n",
              "        vertical-align: middle;\n",
              "    }\n",
              "\n",
              "    .dataframe tbody tr th {\n",
              "        vertical-align: top;\n",
              "    }\n",
              "\n",
              "    .dataframe thead th {\n",
              "        text-align: right;\n",
              "    }\n",
              "</style>\n",
              "<table border=\"1\" class=\"dataframe\">\n",
              "  <thead>\n",
              "    <tr style=\"text-align: right;\">\n",
              "      <th></th>\n",
              "      <th>Doc-ID</th>\n",
              "      <th>Doc-ID-only</th>\n",
              "      <th>KPs_Truth</th>\n",
              "      <th>KPs_frm_YAKE</th>\n",
              "      <th>index_col</th>\n",
              "      <th>percent_found</th>\n",
              "    </tr>\n",
              "  </thead>\n",
              "  <tbody>\n",
              "    <tr>\n",
              "      <th>0</th>\n",
              "      <td>637759</td>\n",
              "      <td>637759</td>\n",
              "      <td>[[devs models], [applications of devs methodol...</td>\n",
              "      <td>[window invalid mask, trap base register, circ...</td>\n",
              "      <td>0</td>\n",
              "      <td>25.000000</td>\n",
              "    </tr>\n",
              "    <tr>\n",
              "      <th>1</th>\n",
              "      <td>637568</td>\n",
              "      <td>637568</td>\n",
              "      <td>[[breakpoint analysis], [genome rearrangement]...</td>\n",
              "      <td>[pairwise inversion distance, maximum pairwise...</td>\n",
              "      <td>1</td>\n",
              "      <td>33.333333</td>\n",
              "    </tr>\n",
              "    <tr>\n",
              "      <th>2</th>\n",
              "      <td>637371</td>\n",
              "      <td>637371</td>\n",
              "      <td>[[global optimization], [interval arithmetic],...</td>\n",
              "      <td>[interval analysis global, global optimization...</td>\n",
              "      <td>2</td>\n",
              "      <td>66.666667</td>\n",
              "    </tr>\n",
              "    <tr>\n",
              "      <th>3</th>\n",
              "      <td>637321</td>\n",
              "      <td>637321</td>\n",
              "      <td>[[morphic predicates], [second-order]]</td>\n",
              "      <td>[residually ultimately periodic, ultimately pe...</td>\n",
              "      <td>3</td>\n",
              "      <td>50.000000</td>\n",
              "    </tr>\n",
              "    <tr>\n",
              "      <th>4</th>\n",
              "      <td>637247</td>\n",
              "      <td>637247</td>\n",
              "      <td>[[ttl], [active probing], [bottleneck bandwidt...</td>\n",
              "      <td>[hop, ttl probe packet, invisible hops, clink ...</td>\n",
              "      <td>4</td>\n",
              "      <td>33.333333</td>\n",
              "    </tr>\n",
              "    <tr>\n",
              "      <th>5</th>\n",
              "      <td>637236</td>\n",
              "      <td>637236</td>\n",
              "      <td>[[routing], [ospf], [lsa traffic], [enterprise...</td>\n",
              "      <td>[lsas day number, lsas change lsas, ospf lsa t...</td>\n",
              "      <td>5</td>\n",
              "      <td>75.000000</td>\n",
              "    </tr>\n",
              "    <tr>\n",
              "      <th>6</th>\n",
              "      <td>637151</td>\n",
              "      <td>637151</td>\n",
              "      <td>[[fault-tolerance], [link failures], [cellular...</td>\n",
              "      <td>[defective cells, cell, cells, leftmost cell, ...</td>\n",
              "      <td>6</td>\n",
              "      <td>60.000000</td>\n",
              "    </tr>\n",
              "    <tr>\n",
              "      <th>7</th>\n",
              "      <td>636898</td>\n",
              "      <td>636898</td>\n",
              "      <td>[[performance analysis], [tcp], [differentiate...</td>\n",
              "      <td>[average queue size, packet drop probability, ...</td>\n",
              "      <td>7</td>\n",
              "      <td>33.333333</td>\n",
              "    </tr>\n",
              "    <tr>\n",
              "      <th>8</th>\n",
              "      <td>636696</td>\n",
              "      <td>636696</td>\n",
              "      <td>[[elliptic curves], [diffie-hellman], [authent...</td>\n",
              "      <td>[key agreement protocol, protocol, key, key ag...</td>\n",
              "      <td>8</td>\n",
              "      <td>50.000000</td>\n",
              "    </tr>\n",
              "    <tr>\n",
              "      <th>9</th>\n",
              "      <td>636581</td>\n",
              "      <td>636581</td>\n",
              "      <td>[[path-following], [polytopes], [sperner's lem...</td>\n",
              "      <td>[full cells, full cell, full, full cell graph,...</td>\n",
              "      <td>9</td>\n",
              "      <td>50.000000</td>\n",
              "    </tr>\n",
              "    <tr>\n",
              "      <th>10</th>\n",
              "      <td>636409</td>\n",
              "      <td>636409</td>\n",
              "      <td>[[dynamical systems], [recursion theory], [dif...</td>\n",
              "      <td>[primitive recursive functions, linear dierent...</td>\n",
              "      <td>10</td>\n",
              "      <td>87.500000</td>\n",
              "    </tr>\n",
              "    <tr>\n",
              "      <th>11</th>\n",
              "      <td>636361</td>\n",
              "      <td>636361</td>\n",
              "      <td>[[nonlinear filtering], [approximate filters],...</td>\n",
              "      <td>[small observation noise, extended kalman filt...</td>\n",
              "      <td>11</td>\n",
              "      <td>33.333333</td>\n",
              "    </tr>\n",
              "    <tr>\n",
              "      <th>12</th>\n",
              "      <td>636260</td>\n",
              "      <td>636260</td>\n",
              "      <td>[[computer algebra], [unfolding], [rescaling],...</td>\n",
              "      <td>[normal form theory, normal form, simplest nor...</td>\n",
              "      <td>12</td>\n",
              "      <td>57.142857</td>\n",
              "    </tr>\n",
              "    <tr>\n",
              "      <th>13</th>\n",
              "      <td>635905</td>\n",
              "      <td>635905</td>\n",
              "      <td>[[schur complement], [direct solvers], [hp-fin...</td>\n",
              "      <td>[boundary concentrated fem, concentrated fem, ...</td>\n",
              "      <td>13</td>\n",
              "      <td>0.000000</td>\n",
              "    </tr>\n",
              "    <tr>\n",
              "      <th>14</th>\n",
              "      <td>635802</td>\n",
              "      <td>635802</td>\n",
              "      <td>[[description logics], [most specific concepts...</td>\n",
              "      <td>[concept descriptions, description, concept, l...</td>\n",
              "      <td>14</td>\n",
              "      <td>0.000000</td>\n",
              "    </tr>\n",
              "    <tr>\n",
              "      <th>15</th>\n",
              "      <td>635794</td>\n",
              "      <td>635794</td>\n",
              "      <td>[[stokes problem], [finite element discretisat...</td>\n",
              "      <td>[nite element spaces, nite element discretisat...</td>\n",
              "      <td>15</td>\n",
              "      <td>75.000000</td>\n",
              "    </tr>\n",
              "    <tr>\n",
              "      <th>16</th>\n",
              "      <td>635471</td>\n",
              "      <td>635471</td>\n",
              "      <td>[[differential algebraic equations], [abstract...</td>\n",
              "      <td>[inherent regular ode, regular ode, dae, regul...</td>\n",
              "      <td>16</td>\n",
              "      <td>50.000000</td>\n",
              "    </tr>\n",
              "    <tr>\n",
              "      <th>17</th>\n",
              "      <td>635468</td>\n",
              "      <td>635468</td>\n",
              "      <td>[[stability], [interval methods], [qr algorith...</td>\n",
              "      <td>[interval taylor series, iho method, taylor se...</td>\n",
              "      <td>17</td>\n",
              "      <td>55.555556</td>\n",
              "    </tr>\n",
              "    <tr>\n",
              "      <th>18</th>\n",
              "      <td>635251</td>\n",
              "      <td>635251</td>\n",
              "      <td>[[heuristic], [branch-and-bound], [crossing nu...</td>\n",
              "      <td>[neural network heuristic, crossing number pro...</td>\n",
              "      <td>18</td>\n",
              "      <td>80.000000</td>\n",
              "    </tr>\n",
              "    <tr>\n",
              "      <th>19</th>\n",
              "      <td>635239</td>\n",
              "      <td>635239</td>\n",
              "      <td>[[greedy algorithm], [matroid], [coxeter matro...</td>\n",
              "      <td>[greedy set, greedy algorithm, greedy, set, ra...</td>\n",
              "      <td>19</td>\n",
              "      <td>66.666667</td>\n",
              "    </tr>\n",
              "  </tbody>\n",
              "</table>\n",
              "</div>"
            ],
            "text/plain": [
              "    Doc-ID Doc-ID-only  ... index_col percent_found\n",
              "0   637759      637759  ...         0     25.000000\n",
              "1   637568      637568  ...         1     33.333333\n",
              "2   637371      637371  ...         2     66.666667\n",
              "3   637321      637321  ...         3     50.000000\n",
              "4   637247      637247  ...         4     33.333333\n",
              "5   637236      637236  ...         5     75.000000\n",
              "6   637151      637151  ...         6     60.000000\n",
              "7   636898      636898  ...         7     33.333333\n",
              "8   636696      636696  ...         8     50.000000\n",
              "9   636581      636581  ...         9     50.000000\n",
              "10  636409      636409  ...        10     87.500000\n",
              "11  636361      636361  ...        11     33.333333\n",
              "12  636260      636260  ...        12     57.142857\n",
              "13  635905      635905  ...        13      0.000000\n",
              "14  635802      635802  ...        14      0.000000\n",
              "15  635794      635794  ...        15     75.000000\n",
              "16  635471      635471  ...        16     50.000000\n",
              "17  635468      635468  ...        17     55.555556\n",
              "18  635251      635251  ...        18     80.000000\n",
              "19  635239      635239  ...        19     66.666667\n",
              "\n",
              "[20 rows x 6 columns]"
            ]
          },
          "metadata": {
            "tags": []
          },
          "execution_count": 20
        }
      ]
    },
    {
      "cell_type": "code",
      "metadata": {
        "id": "pNyA2NFxYODc"
      },
      "source": [
        "dfd.to_csv(path_or_buf = 'gdrive/My Drive/ColabNotebooks/dataset/truth/Yake200KPs.csv',index=False)"
      ],
      "execution_count": 21,
      "outputs": []
    }
  ]
}